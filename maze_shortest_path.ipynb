{
  "nbformat": 4,
  "nbformat_minor": 0,
  "metadata": {
    "colab": {
      "name": "maze_shortest_path.ipynb",
      "provenance": []
    },
    "kernelspec": {
      "name": "python3",
      "display_name": "Python 3"
    },
    "language_info": {
      "name": "python"
    }
  },
  "cells": [
    {
      "cell_type": "code",
      "metadata": {
        "id": "ggITUrc4IqC7"
      },
      "source": [
        "import random\n",
        "import numpy as np\n",
        "from enum import Enum\n",
        "from typing import Tuple, Sequence\n",
        "\n",
        "\n",
        "class CellAction(Enum):\n",
        "    NORTH = 0\n",
        "    SOUTH = 1\n",
        "    EAST = 2\n",
        "    WEST = 3\n",
        "\n",
        "\n",
        "ACTION_DELTA_MAP = {\n",
        "    CellAction.WEST: (-1, 0),\n",
        "    CellAction.EAST: (1, 0),\n",
        "    CellAction.SOUTH: (0, 1),\n",
        "    CellAction.NORTH: (0, -1),\n",
        "}\n",
        "\n",
        "SYMMETRIC_ACTION = {\n",
        "    CellAction.NORTH: CellAction.SOUTH,\n",
        "    CellAction.SOUTH: CellAction.NORTH,\n",
        "    CellAction.EAST: CellAction.WEST,\n",
        "    CellAction.WEST: CellAction.EAST,\n",
        "}\n",
        "\n",
        "\n",
        "class Cell:\n",
        "    \"\"\"A cell in the maze.\n",
        "\n",
        "    A maze \"Cell\" is a point in the grid which may be surrounded by walls to\n",
        "    the north, east, south or west.\n",
        "    \"\"\"\n",
        "\n",
        "    def __init__(self, x: int, y: int):\n",
        "        \"\"\"Initialize the cell at (x,y). At first it is surrounded by walls.\"\"\"\n",
        "        self.x, self.y = x, y\n",
        "        self.walls = {cell_action: True for cell_action in CellAction}\n",
        "        self.exit = False\n",
        "        self.entrance = False\n",
        "\n",
        "    def mark_as_exit(self):\n",
        "        \"\"\"Define this cell as a maze exit.\"\"\"\n",
        "        self.exit = True\n",
        "\n",
        "    def mark_as_entrance(self):\n",
        "        \"\"\"Define this cell as a maze entrance.\"\"\"\n",
        "        self.entrance = True\n",
        "\n",
        "    def has_all_walls(self) -> bool:\n",
        "        \"\"\"Does this cell still have all its walls?\"\"\"\n",
        "        return all(self.walls.values())\n",
        "\n",
        "    def knock_down_wall(self, cell_action: CellAction):\n",
        "        \"\"\"Knock down the wall that would prevent us from carrying out cell_action.\"\"\"\n",
        "        self.walls[cell_action] = False\n",
        "\n",
        "\n",
        "class Maze:\n",
        "    \"\"\"A Maze, represented as a grid of cells.\"\"\"\n",
        "\n",
        "    def __init__(\n",
        "        self,\n",
        "        nx: int,\n",
        "        ny: int,\n",
        "        ix: int = 0,\n",
        "        iy: int = 0,\n",
        "    ):\n",
        "        \"\"\"Initialize the maze grid.\n",
        "\n",
        "        The maze consists of nx x ny cells and will be constructed starting\n",
        "        at the cell indexed at (ix, iy).\n",
        "        \"\"\"\n",
        "        assert 0 <= ix < nx\n",
        "        assert 0 <= iy < ny\n",
        "        self.nx, self.ny = nx, ny\n",
        "        self.ix, self.iy = ix, iy\n",
        "        self.maze_map = [[Cell(x, y) for y in range(ny)] for x in range(nx)]\n",
        "        self.entrance_cell = self.cell_at(ix, iy)\n",
        "        self.entrance_cell.mark_as_entrance()\n",
        "        self.exit_cell = self._make_maze()\n",
        "\n",
        "    def cell_at(self, x: int, y: int) -> Cell:\n",
        "        \"\"\"Return the Cell object at (x,y).\"\"\"\n",
        "\n",
        "        return self.maze_map[x][y]\n",
        "\n",
        "    def __str__(self):\n",
        "        \"\"\"Return a (crude) string representation of the maze.\"\"\"\n",
        "\n",
        "        maze_rows = [\"-\" * self.nx * 2]\n",
        "        for y in range(self.ny):\n",
        "            maze_row = [\"|\"]\n",
        "            for x in range(self.nx):\n",
        "                if self.maze_map[x][y].walls[CellAction.EAST]:\n",
        "                    maze_row.append(\" |\")\n",
        "                else:\n",
        "                    maze_row.append(\"  \")\n",
        "            maze_rows.append(\"\".join(maze_row))\n",
        "            maze_row = [\"|\"]\n",
        "            for x in range(self.nx):\n",
        "                if self.maze_map[x][y].walls[CellAction.SOUTH]:\n",
        "                    maze_row.append(\"-+\")\n",
        "                else:\n",
        "                    maze_row.append(\" +\")\n",
        "            maze_rows.append(\"\".join(maze_row))\n",
        "        return \"\\n\".join(maze_rows)\n",
        "\n",
        "    def write_svg(self, filename: str):\n",
        "        \"\"\"Write an SVG image of the maze to filename.\"\"\"\n",
        "\n",
        "        aspect_ratio = self.nx / self.ny\n",
        "        # Pad the maze all around by this amount.\n",
        "        padding = 10\n",
        "        # Height and width of the maze image (excluding padding), in pixels\n",
        "        height = 500\n",
        "        width = int(height * aspect_ratio)\n",
        "        # Scaling factors mapping maze coordinates to image coordinates\n",
        "        scy, scx = height / self.ny, width / self.nx\n",
        "\n",
        "        def write_wall(file, ww_x1, ww_y1, ww_x2, ww_y2):\n",
        "            \"\"\"Write a single wall to the SVG image file handle f.\"\"\"\n",
        "            style = 'stroke=\"black\" stroke-width=\"5\"'\n",
        "            print(\n",
        "                '<line x1=\"{}\" y1=\"{}\" x2=\"{}\" y2=\"{}\" {} />'.format(\n",
        "                    ww_x1, ww_y1, ww_x2, ww_y2, style\n",
        "                ),\n",
        "                file=file,\n",
        "            )\n",
        "\n",
        "        def write_cross(file, x, y):\n",
        "            offset = 7\n",
        "            style = 'stroke=\"blue\" stroke-width=\"10\"'\n",
        "            print(\n",
        "                '<line x1=\"{}\" y1=\"{}\" x2=\"{}\" y2=\"{}\" {} />'.format(\n",
        "                    x - offset, y - offset, x + offset, y + offset, style\n",
        "                ),\n",
        "                file=file,\n",
        "            )\n",
        "            print(\n",
        "                '<line x1=\"{}\" y1=\"{}\" x2=\"{}\" y2=\"{}\" {} />'.format(\n",
        "                    x - offset, y + offset, x + offset, y - offset, style\n",
        "                ),\n",
        "                file=file,\n",
        "            )\n",
        "\n",
        "        def write_square(file, x, y):\n",
        "            offset = 7\n",
        "            style = 'stroke=\"green\" stroke-width=\"10\"'\n",
        "            print(\n",
        "                '<line x1=\"{}\" y1=\"{}\" x2=\"{}\" y2=\"{}\" {} />'.format(\n",
        "                    x - offset, y - offset, x - offset, y + offset, style\n",
        "                ),\n",
        "                file=file,\n",
        "            )\n",
        "            print(\n",
        "                '<line x1=\"{}\" y1=\"{}\" x2=\"{}\" y2=\"{}\" {} />'.format(\n",
        "                    x - offset, y + offset, x + offset, y + offset, style\n",
        "                ),\n",
        "                file=file,\n",
        "            )\n",
        "            print(\n",
        "                '<line x1=\"{}\" y1=\"{}\" x2=\"{}\" y2=\"{}\" {} />'.format(\n",
        "                    x + offset, y + offset, x + offset, y - offset, style\n",
        "                ),\n",
        "                file=file,\n",
        "            )\n",
        "            print(\n",
        "                '<line x1=\"{}\" y1=\"{}\" x2=\"{}\" y2=\"{}\" {} />'.format(\n",
        "                    x + offset, y - offset, x - offset, y - offset, style\n",
        "                ),\n",
        "                file=file,\n",
        "            )\n",
        "\n",
        "        # Write the SVG image file for maze\n",
        "        with open(filename, \"w\") as f:\n",
        "            # SVG preamble and styles.\n",
        "            print('<?xml version=\"1.0\" encoding=\"utf-8\"?>', file=f)\n",
        "            print('<svg xmlns=\"http://www.w3.org/2000/svg\"', file=f)\n",
        "            print('    xmlns:xlink=\"http://www.w3.org/1999/xlink\"', file=f)\n",
        "            print(\n",
        "                '    width=\"{:d}\" height=\"{:d}\" viewBox=\"{} {} {} {}\">'.format(\n",
        "                    width + 2 * padding,\n",
        "                    height + 2 * padding,\n",
        "                    -padding,\n",
        "                    -padding,\n",
        "                    width + 2 * padding,\n",
        "                    height + 2 * padding,\n",
        "                ),\n",
        "                file=f,\n",
        "            )\n",
        "            print('<defs>\\n<style type=\"text/css\"><![CDATA[', file=f)\n",
        "            print(\"line {\", file=f)\n",
        "            print(\"    stroke-width: 5;\\n}\", file=f)\n",
        "            print(\"]]></style>\\n</defs>\", file=f)\n",
        "            # Draw the \"South\" and \"East\" walls of each cell, if present (these\n",
        "            # are the \"North\" and \"West\" walls of a neighbouring cell in\n",
        "            # general, of course).\n",
        "            for x in range(self.nx):\n",
        "                for y in range(self.ny):\n",
        "                    if self.cell_at(x, y).walls[CellAction.SOUTH]:\n",
        "                        x1, y1 = x * scx, (y + 1) * scy\n",
        "                        x2, y2 = (x + 1) * scx, (y + 1) * scy\n",
        "                        write_wall(f, x1, y1, x2, y2)\n",
        "                    if self.cell_at(x, y).walls[CellAction.EAST]:\n",
        "                        x1, y1 = (x + 1) * scx, y * scy\n",
        "                        x2, y2 = (x + 1) * scx, (y + 1) * scy\n",
        "                        write_wall(f, x1, y1, x2, y2)\n",
        "                    if self.cell_at(x, y).exit:\n",
        "                        write_cross(f, (x + 0.5) * scx, (y + 0.5) * scy)\n",
        "                    if self.cell_at(x, y).entrance:\n",
        "                        write_square(f, (x + 0.5) * scx, (y + 0.5) * scy)\n",
        "            # Draw the North and West maze border, which won't have been drawn\n",
        "            # by the procedure above.\n",
        "            style = 'stroke=\"black\" stroke-width=\"5\"'\n",
        "            print(\n",
        "                '<line x1=\"0\" y1=\"0\" x2=\"{}\" y2=\"0\" {} />'.format(width, style), file=f\n",
        "            )\n",
        "            print(\n",
        "                '<line x1=\"0\" y1=\"0\" x2=\"0\" y2=\"{}\" {} />'.format(height, style), file=f\n",
        "            )\n",
        "            print(\"</svg>\", file=f)\n",
        "\n",
        "    def _get_transitions_to_unvisited_cell(\n",
        "        self, cell: Cell\n",
        "    ) -> Sequence[Tuple[CellAction, Cell]]:\n",
        "        transitions = []\n",
        "        for cell_action, (dx, dy) in ACTION_DELTA_MAP.items():\n",
        "            x2, y2 = cell.x + dx, cell.y + dy\n",
        "            if (0 <= x2 < self.nx) and (0 <= y2 < self.ny):\n",
        "                neighbour_cell = self.cell_at(x2, y2)\n",
        "                if neighbour_cell.has_all_walls():\n",
        "                    transitions.append((cell_action, neighbour_cell))\n",
        "        return transitions\n",
        "\n",
        "    def _make_maze(\n",
        "        self,\n",
        "    ) -> Cell:\n",
        "        # Total number of cells.\n",
        "        n = self.nx * self.ny\n",
        "        cell_stack = []\n",
        "        current_cell = self.cell_at(self.ix, self.iy)\n",
        "        # Total number of visited cells during maze construction.\n",
        "        nv = 1\n",
        "        # Minimum number of moves to get to the exit before randomly\n",
        "        # knocking down walls\n",
        "        min_nb_move = 0\n",
        "\n",
        "        while nv < n:\n",
        "            transitions = self._get_transitions_to_unvisited_cell(current_cell)\n",
        "\n",
        "            if not transitions:\n",
        "                # We've reached a dead end: backtrack.\n",
        "                current_cell = cell_stack.pop()\n",
        "                min_nb_move -= 1\n",
        "                continue\n",
        "\n",
        "            # Choose a random neighbouring cell and move to it.\n",
        "            cell_action, next_cell = random.choice(transitions)\n",
        "            current_cell.knock_down_wall(cell_action)\n",
        "            next_cell.knock_down_wall(SYMMETRIC_ACTION[cell_action])\n",
        "            cell_stack.append(current_cell)\n",
        "            current_cell = next_cell\n",
        "            nv += 1\n",
        "            min_nb_move += 1\n",
        "\n",
        "        # use last visited cell as maze exit\n",
        "        exit_cell = current_cell\n",
        "        exit_cell.mark_as_exit()\n",
        "\n",
        "        return exit_cell\n",
        "\n",
        "\n"
      ],
      "execution_count": null,
      "outputs": []
    },
    {
      "cell_type": "code",
      "metadata": {
        "id": "ggqJBzdHIr2M"
      },
      "source": [
        "#from maze_utils import Maze, Cell, CellAction, ACTION_DELTA_MAP\n"
      ],
      "execution_count": null,
      "outputs": []
    },
    {
      "cell_type": "code",
      "metadata": {
        "colab": {
          "base_uri": "https://localhost:8080/"
        },
        "id": "HdENaEazI4hO",
        "outputId": "6342aa21-ef32-45cf-c4fc-2a2509eafe37"
      },
      "source": [
        "# Maze dimensions (ncols, nrows)\n",
        "nx, ny = 10, 10\n",
        "# Maze entry position\n",
        "ix, iy = 0, 0\n",
        "\n",
        "maze = Maze(nx, ny, ix, iy)\n",
        "print(\n",
        "    f\"The goal is to reach the cell {(maze.exit_cell.x, maze.exit_cell.y)} \"\n",
        "    f\"from the starting cell {(maze.entrance_cell.x, maze.entrance_cell.y)} \")"
      ],
      "execution_count": null,
      "outputs": [
        {
          "output_type": "stream",
          "name": "stdout",
          "text": [
            "The goal is to reach the cell (6, 2) from the starting cell (0, 0) \n"
          ]
        }
      ]
    },
    {
      "cell_type": "code",
      "metadata": {
        "id": "OVeF6DUfI5Pp"
      },
      "source": [
        "from IPython.display import SVG, display"
      ],
      "execution_count": null,
      "outputs": []
    },
    {
      "cell_type": "code",
      "metadata": {
        "colab": {
          "base_uri": "https://localhost:8080/",
          "height": 541
        },
        "id": "YCf5mv0FJADo",
        "outputId": "61be9147-0605-4e65-fc98-b1cf3adbe482"
      },
      "source": [
        "maze.write_svg('maze.svg')\n",
        "display(SVG('maze.svg'))"
      ],
      "execution_count": null,
      "outputs": [
        {
          "output_type": "display_data",
          "data": {
            "text/plain": [
              "<IPython.core.display.SVG object>"
            ],
            "image/svg+xml": "<svg height=\"520\" viewBox=\"-10 -10 520 520\" width=\"520\" xmlns=\"http://www.w3.org/2000/svg\" xmlns:xlink=\"http://www.w3.org/1999/xlink\">\n<defs>\n<style type=\"text/css\"><![CDATA[\nline {\n    stroke-width: 5;\n}\n]]></style>\n</defs>\n<line stroke=\"black\" stroke-width=\"5\" x1=\"50.0\" x2=\"50.0\" y1=\"0.0\" y2=\"50.0\"/>\n<line stroke=\"green\" stroke-width=\"10\" x1=\"18.0\" x2=\"18.0\" y1=\"18.0\" y2=\"32.0\"/>\n<line stroke=\"green\" stroke-width=\"10\" x1=\"18.0\" x2=\"32.0\" y1=\"32.0\" y2=\"32.0\"/>\n<line stroke=\"green\" stroke-width=\"10\" x1=\"32.0\" x2=\"32.0\" y1=\"32.0\" y2=\"18.0\"/>\n<line stroke=\"green\" stroke-width=\"10\" x1=\"32.0\" x2=\"18.0\" y1=\"18.0\" y2=\"18.0\"/>\n<line stroke=\"black\" stroke-width=\"5\" x1=\"0.0\" x2=\"50.0\" y1=\"100.0\" y2=\"100.0\"/>\n<line stroke=\"black\" stroke-width=\"5\" x1=\"50.0\" x2=\"50.0\" y1=\"200.0\" y2=\"250.0\"/>\n<line stroke=\"black\" stroke-width=\"5\" x1=\"50.0\" x2=\"50.0\" y1=\"250.0\" y2=\"300.0\"/>\n<line stroke=\"black\" stroke-width=\"5\" x1=\"0.0\" x2=\"50.0\" y1=\"350.0\" y2=\"350.0\"/>\n<line stroke=\"black\" stroke-width=\"5\" x1=\"50.0\" x2=\"50.0\" y1=\"300.0\" y2=\"350.0\"/>\n<line stroke=\"black\" stroke-width=\"5\" x1=\"50.0\" x2=\"50.0\" y1=\"400.0\" y2=\"450.0\"/>\n<line stroke=\"black\" stroke-width=\"5\" x1=\"0.0\" x2=\"50.0\" y1=\"500.0\" y2=\"500.0\"/>\n<line stroke=\"black\" stroke-width=\"5\" x1=\"50.0\" x2=\"100.0\" y1=\"50.0\" y2=\"50.0\"/>\n<line stroke=\"black\" stroke-width=\"5\" x1=\"50.0\" x2=\"100.0\" y1=\"100.0\" y2=\"100.0\"/>\n<line stroke=\"black\" stroke-width=\"5\" x1=\"50.0\" x2=\"100.0\" y1=\"150.0\" y2=\"150.0\"/>\n<line stroke=\"black\" stroke-width=\"5\" x1=\"50.0\" x2=\"100.0\" y1=\"200.0\" y2=\"200.0\"/>\n<line stroke=\"black\" stroke-width=\"5\" x1=\"100.0\" x2=\"100.0\" y1=\"150.0\" y2=\"200.0\"/>\n<line stroke=\"black\" stroke-width=\"5\" x1=\"100.0\" x2=\"100.0\" y1=\"250.0\" y2=\"300.0\"/>\n<line stroke=\"black\" stroke-width=\"5\" x1=\"50.0\" x2=\"100.0\" y1=\"350.0\" y2=\"350.0\"/>\n<line stroke=\"black\" stroke-width=\"5\" x1=\"50.0\" x2=\"100.0\" y1=\"450.0\" y2=\"450.0\"/>\n<line stroke=\"black\" stroke-width=\"5\" x1=\"100.0\" x2=\"100.0\" y1=\"400.0\" y2=\"450.0\"/>\n<line stroke=\"black\" stroke-width=\"5\" x1=\"50.0\" x2=\"100.0\" y1=\"500.0\" y2=\"500.0\"/>\n<line stroke=\"black\" stroke-width=\"5\" x1=\"100.0\" x2=\"150.0\" y1=\"50.0\" y2=\"50.0\"/>\n<line stroke=\"black\" stroke-width=\"5\" x1=\"100.0\" x2=\"150.0\" y1=\"100.0\" y2=\"100.0\"/>\n<line stroke=\"black\" stroke-width=\"5\" x1=\"100.0\" x2=\"150.0\" y1=\"150.0\" y2=\"150.0\"/>\n<line stroke=\"black\" stroke-width=\"5\" x1=\"100.0\" x2=\"150.0\" y1=\"250.0\" y2=\"250.0\"/>\n<line stroke=\"black\" stroke-width=\"5\" x1=\"150.0\" x2=\"150.0\" y1=\"200.0\" y2=\"250.0\"/>\n<line stroke=\"black\" stroke-width=\"5\" x1=\"100.0\" x2=\"150.0\" y1=\"300.0\" y2=\"300.0\"/>\n<line stroke=\"black\" stroke-width=\"5\" x1=\"150.0\" x2=\"150.0\" y1=\"300.0\" y2=\"350.0\"/>\n<line stroke=\"black\" stroke-width=\"5\" x1=\"100.0\" x2=\"150.0\" y1=\"400.0\" y2=\"400.0\"/>\n<line stroke=\"black\" stroke-width=\"5\" x1=\"150.0\" x2=\"150.0\" y1=\"350.0\" y2=\"400.0\"/>\n<line stroke=\"black\" stroke-width=\"5\" x1=\"100.0\" x2=\"150.0\" y1=\"500.0\" y2=\"500.0\"/>\n<line stroke=\"black\" stroke-width=\"5\" x1=\"150.0\" x2=\"200.0\" y1=\"100.0\" y2=\"100.0\"/>\n<line stroke=\"black\" stroke-width=\"5\" x1=\"200.0\" x2=\"200.0\" y1=\"50.0\" y2=\"100.0\"/>\n<line stroke=\"black\" stroke-width=\"5\" x1=\"200.0\" x2=\"200.0\" y1=\"100.0\" y2=\"150.0\"/>\n<line stroke=\"black\" stroke-width=\"5\" x1=\"200.0\" x2=\"200.0\" y1=\"150.0\" y2=\"200.0\"/>\n<line stroke=\"black\" stroke-width=\"5\" x1=\"200.0\" x2=\"200.0\" y1=\"200.0\" y2=\"250.0\"/>\n<line stroke=\"black\" stroke-width=\"5\" x1=\"150.0\" x2=\"200.0\" y1=\"350.0\" y2=\"350.0\"/>\n<line stroke=\"black\" stroke-width=\"5\" x1=\"200.0\" x2=\"200.0\" y1=\"300.0\" y2=\"350.0\"/>\n<line stroke=\"black\" stroke-width=\"5\" x1=\"150.0\" x2=\"200.0\" y1=\"450.0\" y2=\"450.0\"/>\n<line stroke=\"black\" stroke-width=\"5\" x1=\"200.0\" x2=\"200.0\" y1=\"400.0\" y2=\"450.0\"/>\n<line stroke=\"black\" stroke-width=\"5\" x1=\"150.0\" x2=\"200.0\" y1=\"500.0\" y2=\"500.0\"/>\n<line stroke=\"black\" stroke-width=\"5\" x1=\"250.0\" x2=\"250.0\" y1=\"0.0\" y2=\"50.0\"/>\n<line stroke=\"black\" stroke-width=\"5\" x1=\"250.0\" x2=\"250.0\" y1=\"50.0\" y2=\"100.0\"/>\n<line stroke=\"black\" stroke-width=\"5\" x1=\"250.0\" x2=\"250.0\" y1=\"100.0\" y2=\"150.0\"/>\n<line stroke=\"black\" stroke-width=\"5\" x1=\"200.0\" x2=\"250.0\" y1=\"200.0\" y2=\"200.0\"/>\n<line stroke=\"black\" stroke-width=\"5\" x1=\"200.0\" x2=\"250.0\" y1=\"250.0\" y2=\"250.0\"/>\n<line stroke=\"black\" stroke-width=\"5\" x1=\"200.0\" x2=\"250.0\" y1=\"300.0\" y2=\"300.0\"/>\n<line stroke=\"black\" stroke-width=\"5\" x1=\"200.0\" x2=\"250.0\" y1=\"400.0\" y2=\"400.0\"/>\n<line stroke=\"black\" stroke-width=\"5\" x1=\"250.0\" x2=\"250.0\" y1=\"350.0\" y2=\"400.0\"/>\n<line stroke=\"black\" stroke-width=\"5\" x1=\"200.0\" x2=\"250.0\" y1=\"450.0\" y2=\"450.0\"/>\n<line stroke=\"black\" stroke-width=\"5\" x1=\"200.0\" x2=\"250.0\" y1=\"500.0\" y2=\"500.0\"/>\n<line stroke=\"black\" stroke-width=\"5\" x1=\"300.0\" x2=\"300.0\" y1=\"0.0\" y2=\"50.0\"/>\n<line stroke=\"black\" stroke-width=\"5\" x1=\"250.0\" x2=\"300.0\" y1=\"150.0\" y2=\"150.0\"/>\n<line stroke=\"black\" stroke-width=\"5\" x1=\"250.0\" x2=\"300.0\" y1=\"200.0\" y2=\"200.0\"/>\n<line stroke=\"black\" stroke-width=\"5\" x1=\"300.0\" x2=\"300.0\" y1=\"200.0\" y2=\"250.0\"/>\n<line stroke=\"black\" stroke-width=\"5\" x1=\"250.0\" x2=\"300.0\" y1=\"300.0\" y2=\"300.0\"/>\n<line stroke=\"black\" stroke-width=\"5\" x1=\"300.0\" x2=\"300.0\" y1=\"250.0\" y2=\"300.0\"/>\n<line stroke=\"black\" stroke-width=\"5\" x1=\"300.0\" x2=\"300.0\" y1=\"300.0\" y2=\"350.0\"/>\n<line stroke=\"black\" stroke-width=\"5\" x1=\"250.0\" x2=\"300.0\" y1=\"400.0\" y2=\"400.0\"/>\n<line stroke=\"black\" stroke-width=\"5\" x1=\"250.0\" x2=\"300.0\" y1=\"450.0\" y2=\"450.0\"/>\n<line stroke=\"black\" stroke-width=\"5\" x1=\"250.0\" x2=\"300.0\" y1=\"500.0\" y2=\"500.0\"/>\n<line stroke=\"black\" stroke-width=\"5\" x1=\"300.0\" x2=\"350.0\" y1=\"100.0\" y2=\"100.0\"/>\n<line stroke=\"black\" stroke-width=\"5\" x1=\"350.0\" x2=\"350.0\" y1=\"50.0\" y2=\"100.0\"/>\n<line stroke=\"black\" stroke-width=\"5\" x1=\"300.0\" x2=\"350.0\" y1=\"150.0\" y2=\"150.0\"/>\n<line stroke=\"black\" stroke-width=\"5\" x1=\"350.0\" x2=\"350.0\" y1=\"100.0\" y2=\"150.0\"/>\n<line stroke=\"blue\" stroke-width=\"10\" x1=\"318.0\" x2=\"332.0\" y1=\"118.0\" y2=\"132.0\"/>\n<line stroke=\"blue\" stroke-width=\"10\" x1=\"318.0\" x2=\"332.0\" y1=\"132.0\" y2=\"118.0\"/>\n<line stroke=\"black\" stroke-width=\"5\" x1=\"300.0\" x2=\"350.0\" y1=\"200.0\" y2=\"200.0\"/>\n<line stroke=\"black\" stroke-width=\"5\" x1=\"350.0\" x2=\"350.0\" y1=\"250.0\" y2=\"300.0\"/>\n<line stroke=\"black\" stroke-width=\"5\" x1=\"300.0\" x2=\"350.0\" y1=\"350.0\" y2=\"350.0\"/>\n<line stroke=\"black\" stroke-width=\"5\" x1=\"300.0\" x2=\"350.0\" y1=\"400.0\" y2=\"400.0\"/>\n<line stroke=\"black\" stroke-width=\"5\" x1=\"300.0\" x2=\"350.0\" y1=\"450.0\" y2=\"450.0\"/>\n<line stroke=\"black\" stroke-width=\"5\" x1=\"300.0\" x2=\"350.0\" y1=\"500.0\" y2=\"500.0\"/>\n<line stroke=\"black\" stroke-width=\"5\" x1=\"400.0\" x2=\"400.0\" y1=\"0.0\" y2=\"50.0\"/>\n<line stroke=\"black\" stroke-width=\"5\" x1=\"350.0\" x2=\"400.0\" y1=\"100.0\" y2=\"100.0\"/>\n<line stroke=\"black\" stroke-width=\"5\" x1=\"350.0\" x2=\"400.0\" y1=\"200.0\" y2=\"200.0\"/>\n<line stroke=\"black\" stroke-width=\"5\" x1=\"400.0\" x2=\"400.0\" y1=\"150.0\" y2=\"200.0\"/>\n<line stroke=\"black\" stroke-width=\"5\" x1=\"400.0\" x2=\"400.0\" y1=\"200.0\" y2=\"250.0\"/>\n<line stroke=\"black\" stroke-width=\"5\" x1=\"350.0\" x2=\"400.0\" y1=\"300.0\" y2=\"300.0\"/>\n<line stroke=\"black\" stroke-width=\"5\" x1=\"400.0\" x2=\"400.0\" y1=\"300.0\" y2=\"350.0\"/>\n<line stroke=\"black\" stroke-width=\"5\" x1=\"350.0\" x2=\"400.0\" y1=\"400.0\" y2=\"400.0\"/>\n<line stroke=\"black\" stroke-width=\"5\" x1=\"400.0\" x2=\"400.0\" y1=\"350.0\" y2=\"400.0\"/>\n<line stroke=\"black\" stroke-width=\"5\" x1=\"350.0\" x2=\"400.0\" y1=\"450.0\" y2=\"450.0\"/>\n<line stroke=\"black\" stroke-width=\"5\" x1=\"350.0\" x2=\"400.0\" y1=\"500.0\" y2=\"500.0\"/>\n<line stroke=\"black\" stroke-width=\"5\" x1=\"400.0\" x2=\"450.0\" y1=\"100.0\" y2=\"100.0\"/>\n<line stroke=\"black\" stroke-width=\"5\" x1=\"450.0\" x2=\"450.0\" y1=\"50.0\" y2=\"100.0\"/>\n<line stroke=\"black\" stroke-width=\"5\" x1=\"450.0\" x2=\"450.0\" y1=\"100.0\" y2=\"150.0\"/>\n<line stroke=\"black\" stroke-width=\"5\" x1=\"450.0\" x2=\"450.0\" y1=\"150.0\" y2=\"200.0\"/>\n<line stroke=\"black\" stroke-width=\"5\" x1=\"400.0\" x2=\"450.0\" y1=\"250.0\" y2=\"250.0\"/>\n<line stroke=\"black\" stroke-width=\"5\" x1=\"400.0\" x2=\"450.0\" y1=\"300.0\" y2=\"300.0\"/>\n<line stroke=\"black\" stroke-width=\"5\" x1=\"450.0\" x2=\"450.0\" y1=\"350.0\" y2=\"400.0\"/>\n<line stroke=\"black\" stroke-width=\"5\" x1=\"400.0\" x2=\"450.0\" y1=\"450.0\" y2=\"450.0\"/>\n<line stroke=\"black\" stroke-width=\"5\" x1=\"400.0\" x2=\"450.0\" y1=\"500.0\" y2=\"500.0\"/>\n<line stroke=\"black\" stroke-width=\"5\" x1=\"500.0\" x2=\"500.0\" y1=\"0.0\" y2=\"50.0\"/>\n<line stroke=\"black\" stroke-width=\"5\" x1=\"500.0\" x2=\"500.0\" y1=\"50.0\" y2=\"100.0\"/>\n<line stroke=\"black\" stroke-width=\"5\" x1=\"500.0\" x2=\"500.0\" y1=\"100.0\" y2=\"150.0\"/>\n<line stroke=\"black\" stroke-width=\"5\" x1=\"500.0\" x2=\"500.0\" y1=\"150.0\" y2=\"200.0\"/>\n<line stroke=\"black\" stroke-width=\"5\" x1=\"500.0\" x2=\"500.0\" y1=\"200.0\" y2=\"250.0\"/>\n<line stroke=\"black\" stroke-width=\"5\" x1=\"450.0\" x2=\"500.0\" y1=\"300.0\" y2=\"300.0\"/>\n<line stroke=\"black\" stroke-width=\"5\" x1=\"500.0\" x2=\"500.0\" y1=\"250.0\" y2=\"300.0\"/>\n<line stroke=\"black\" stroke-width=\"5\" x1=\"500.0\" x2=\"500.0\" y1=\"300.0\" y2=\"350.0\"/>\n<line stroke=\"black\" stroke-width=\"5\" x1=\"450.0\" x2=\"500.0\" y1=\"400.0\" y2=\"400.0\"/>\n<line stroke=\"black\" stroke-width=\"5\" x1=\"500.0\" x2=\"500.0\" y1=\"350.0\" y2=\"400.0\"/>\n<line stroke=\"black\" stroke-width=\"5\" x1=\"500.0\" x2=\"500.0\" y1=\"400.0\" y2=\"450.0\"/>\n<line stroke=\"black\" stroke-width=\"5\" x1=\"450.0\" x2=\"500.0\" y1=\"500.0\" y2=\"500.0\"/>\n<line stroke=\"black\" stroke-width=\"5\" x1=\"500.0\" x2=\"500.0\" y1=\"450.0\" y2=\"500.0\"/>\n<line stroke=\"black\" stroke-width=\"5\" x1=\"0\" x2=\"500\" y1=\"0\" y2=\"0\"/>\n<line stroke=\"black\" stroke-width=\"5\" x1=\"0\" x2=\"0\" y1=\"0\" y2=\"500\"/>\n</svg>"
          },
          "metadata": {}
        }
      ]
    },
    {
      "cell_type": "code",
      "metadata": {
        "colab": {
          "base_uri": "https://localhost:8080/"
        },
        "id": "5SLwFor_JB7y",
        "outputId": "26f543b5-6a9b-4f90-8185-c674603ad942"
      },
      "source": [
        "for cell_action in CellAction:\n",
        "    delta_x, delta_y = ACTION_DELTA_MAP[cell_action]\n",
        "    print(f\"{cell_action.name}: (x + {delta_x}, y + {delta_y})\")"
      ],
      "execution_count": null,
      "outputs": [
        {
          "output_type": "stream",
          "name": "stdout",
          "text": [
            "NORTH: (x + 0, y + -1)\n",
            "SOUTH: (x + 0, y + 1)\n",
            "EAST: (x + 1, y + 0)\n",
            "WEST: (x + -1, y + 0)\n"
          ]
        }
      ]
    },
    {
      "cell_type": "code",
      "metadata": {
        "colab": {
          "base_uri": "https://localhost:8080/"
        },
        "id": "EJQRq2dGJFAs",
        "outputId": "da417c08-8cc7-405f-e6dc-4468730c8deb"
      },
      "source": [
        "for cell_action in CellAction:\n",
        "    forbidden = maze.entrance_cell.walls[cell_action]\n",
        "    print(f\"Going {cell_action.name} from the entrance is {'forbidden' if forbidden else 'allowed'}\")"
      ],
      "execution_count": null,
      "outputs": [
        {
          "output_type": "stream",
          "name": "stdout",
          "text": [
            "Going NORTH from the entrance is forbidden\n",
            "Going SOUTH from the entrance is allowed\n",
            "Going EAST from the entrance is forbidden\n",
            "Going WEST from the entrance is forbidden\n"
          ]
        }
      ]
    },
    {
      "cell_type": "code",
      "metadata": {
        "id": "FHsuXwheJJRu"
      },
      "source": [
        "# Here I will use recursion function inorder to determine the trajectory to reach the end of the maze.\n",
        "# I defined visited matrix which will help me to know the visited and non-visited cells.\n",
        "# therefore the complexity of the solution is defined by O(nm), where n & m are the length and width of the maze respectively.\n",
        "# At the end you can see 4 testcases used to test my solution.\n",
        "\n",
        "import numpy as np\n",
        "\n",
        "def solve(maze,i,j,list,visited):\n",
        "    if visited.item((j,i)) == 1:     # if the cell is already visited, then stop\n",
        "        return False\n",
        "    \n",
        "    visited.itemset((j,i),1)                      # if the cell is not visited,replace in the visited matrix by 1\n",
        "    if maze.cell_at(i,j).x == maze.exit_cell.x:   # if reached exit cell, return true => finished\n",
        "        if maze.cell_at(i,j).y == maze.exit_cell.y:\n",
        "            return True\n",
        "        \n",
        "    for cell_action in CellAction:\n",
        "        delta_x, delta_y = ACTION_DELTA_MAP[cell_action]\n",
        "        forbidden = maze.cell_at(i,j).walls[cell_action]\n",
        "        if not forbidden:                                     # determine the available actions you can do\n",
        "            if solve(maze,i+delta_x,j+delta_y,list,visited):  # look for a path recursionly\n",
        "                list.append(cell_action.name)                 # when you found a path,add the action used to the list of actions\n",
        "                return True\n",
        "    return list               #return list of actions in reverse order\n",
        "\n",
        "def ShortestPath(maze):\n",
        "    l=[]\n",
        "    visited=np.zeros((maze.ny,maze.nx))                   # initialize the visited vector as zeros (not visited)\n",
        "    actions=solve(maze,maze.entrance_cell.x,maze.entrance_cell.y,l,visited)      #return list of action in reverse order\n",
        "    l.reverse()                   #reverse the list of actions\n",
        "    print(l)\n",
        "    return"
      ],
      "execution_count": null,
      "outputs": []
    },
    {
      "cell_type": "code",
      "metadata": {
        "colab": {
          "base_uri": "https://localhost:8080/",
          "height": 579
        },
        "id": "r9ZL6zTKJMa7",
        "outputId": "c68c8465-8c17-4fb2-a18e-b311ef1d32e0"
      },
      "source": [
        "# Maze dimensions (ncols, nrows)\n",
        "nx1, ny1 = 15, 15\n",
        "# Maze entry position\n",
        "ix1, iy1 = 0, 0\n",
        "\n",
        "maze1 = Maze(nx1, ny1, ix1, iy1)\n",
        "maze1.write_svg('maze1.svg')\n",
        "display(SVG('maze1.svg'))\n",
        "ShortestPath(maze1)"
      ],
      "execution_count": null,
      "outputs": [
        {
          "output_type": "display_data",
          "data": {
            "text/plain": [
              "<IPython.core.display.SVG object>"
            ],
            "image/svg+xml": "<svg height=\"520\" viewBox=\"-10 -10 520 520\" width=\"520\" xmlns=\"http://www.w3.org/2000/svg\" xmlns:xlink=\"http://www.w3.org/1999/xlink\">\n<defs>\n<style type=\"text/css\"><![CDATA[\nline {\n    stroke-width: 5;\n}\n]]></style>\n</defs>\n<line stroke=\"black\" stroke-width=\"5\" x1=\"0.0\" x2=\"33.333333333333336\" y1=\"33.333333333333336\" y2=\"33.333333333333336\"/>\n<line stroke=\"green\" stroke-width=\"10\" x1=\"9.666666666666668\" x2=\"9.666666666666668\" y1=\"9.666666666666668\" y2=\"23.666666666666668\"/>\n<line stroke=\"green\" stroke-width=\"10\" x1=\"9.666666666666668\" x2=\"23.666666666666668\" y1=\"23.666666666666668\" y2=\"23.666666666666668\"/>\n<line stroke=\"green\" stroke-width=\"10\" x1=\"23.666666666666668\" x2=\"23.666666666666668\" y1=\"23.666666666666668\" y2=\"9.666666666666668\"/>\n<line stroke=\"green\" stroke-width=\"10\" x1=\"23.666666666666668\" x2=\"9.666666666666668\" y1=\"9.666666666666668\" y2=\"9.666666666666668\"/>\n<line stroke=\"black\" stroke-width=\"5\" x1=\"33.333333333333336\" x2=\"33.333333333333336\" y1=\"66.66666666666667\" y2=\"100.0\"/>\n<line stroke=\"black\" stroke-width=\"5\" x1=\"33.333333333333336\" x2=\"33.333333333333336\" y1=\"100.0\" y2=\"133.33333333333334\"/>\n<line stroke=\"black\" stroke-width=\"5\" x1=\"0.0\" x2=\"33.333333333333336\" y1=\"166.66666666666669\" y2=\"166.66666666666669\"/>\n<line stroke=\"black\" stroke-width=\"5\" x1=\"33.333333333333336\" x2=\"33.333333333333336\" y1=\"200.0\" y2=\"233.33333333333334\"/>\n<line stroke=\"black\" stroke-width=\"5\" x1=\"33.333333333333336\" x2=\"33.333333333333336\" y1=\"233.33333333333334\" y2=\"266.6666666666667\"/>\n<line stroke=\"black\" stroke-width=\"5\" x1=\"33.333333333333336\" x2=\"33.333333333333336\" y1=\"300.0\" y2=\"333.33333333333337\"/>\n<line stroke=\"black\" stroke-width=\"5\" x1=\"33.333333333333336\" x2=\"33.333333333333336\" y1=\"333.33333333333337\" y2=\"366.6666666666667\"/>\n<line stroke=\"black\" stroke-width=\"5\" x1=\"0.0\" x2=\"33.333333333333336\" y1=\"400.0\" y2=\"400.0\"/>\n<line stroke=\"black\" stroke-width=\"5\" x1=\"0.0\" x2=\"33.333333333333336\" y1=\"500.00000000000006\" y2=\"500.00000000000006\"/>\n<line stroke=\"black\" stroke-width=\"5\" x1=\"33.333333333333336\" x2=\"66.66666666666667\" y1=\"33.333333333333336\" y2=\"33.333333333333336\"/>\n<line stroke=\"black\" stroke-width=\"5\" x1=\"33.333333333333336\" x2=\"66.66666666666667\" y1=\"66.66666666666667\" y2=\"66.66666666666667\"/>\n<line stroke=\"black\" stroke-width=\"5\" x1=\"33.333333333333336\" x2=\"66.66666666666667\" y1=\"133.33333333333334\" y2=\"133.33333333333334\"/>\n<line stroke=\"black\" stroke-width=\"5\" x1=\"33.333333333333336\" x2=\"66.66666666666667\" y1=\"166.66666666666669\" y2=\"166.66666666666669\"/>\n<line stroke=\"black\" stroke-width=\"5\" x1=\"66.66666666666667\" x2=\"66.66666666666667\" y1=\"133.33333333333334\" y2=\"166.66666666666669\"/>\n<line stroke=\"black\" stroke-width=\"5\" x1=\"66.66666666666667\" x2=\"66.66666666666667\" y1=\"166.66666666666669\" y2=\"200.0\"/>\n<line stroke=\"black\" stroke-width=\"5\" x1=\"33.333333333333336\" x2=\"66.66666666666667\" y1=\"233.33333333333334\" y2=\"233.33333333333334\"/>\n<line stroke=\"black\" stroke-width=\"5\" x1=\"33.333333333333336\" x2=\"66.66666666666667\" y1=\"300.0\" y2=\"300.0\"/>\n<line stroke=\"black\" stroke-width=\"5\" x1=\"66.66666666666667\" x2=\"66.66666666666667\" y1=\"266.6666666666667\" y2=\"300.0\"/>\n<line stroke=\"black\" stroke-width=\"5\" x1=\"33.333333333333336\" x2=\"66.66666666666667\" y1=\"333.33333333333337\" y2=\"333.33333333333337\"/>\n<line stroke=\"black\" stroke-width=\"5\" x1=\"33.333333333333336\" x2=\"66.66666666666667\" y1=\"400.0\" y2=\"400.0\"/>\n<line stroke=\"black\" stroke-width=\"5\" x1=\"66.66666666666667\" x2=\"66.66666666666667\" y1=\"366.6666666666667\" y2=\"400.0\"/>\n<line stroke=\"black\" stroke-width=\"5\" x1=\"33.333333333333336\" x2=\"66.66666666666667\" y1=\"433.33333333333337\" y2=\"433.33333333333337\"/>\n<line stroke=\"black\" stroke-width=\"5\" x1=\"33.333333333333336\" x2=\"66.66666666666667\" y1=\"466.6666666666667\" y2=\"466.6666666666667\"/>\n<line stroke=\"black\" stroke-width=\"5\" x1=\"33.333333333333336\" x2=\"66.66666666666667\" y1=\"500.00000000000006\" y2=\"500.00000000000006\"/>\n<line stroke=\"black\" stroke-width=\"5\" x1=\"66.66666666666667\" x2=\"100.0\" y1=\"33.333333333333336\" y2=\"33.333333333333336\"/>\n<line stroke=\"black\" stroke-width=\"5\" x1=\"100.0\" x2=\"100.0\" y1=\"33.333333333333336\" y2=\"66.66666666666667\"/>\n<line stroke=\"black\" stroke-width=\"5\" x1=\"66.66666666666667\" x2=\"100.0\" y1=\"100.0\" y2=\"100.0\"/>\n<line stroke=\"black\" stroke-width=\"5\" x1=\"100.0\" x2=\"100.0\" y1=\"66.66666666666667\" y2=\"100.0\"/>\n<line stroke=\"black\" stroke-width=\"5\" x1=\"100.0\" x2=\"100.0\" y1=\"100.0\" y2=\"133.33333333333334\"/>\n<line stroke=\"black\" stroke-width=\"5\" x1=\"66.66666666666667\" x2=\"100.0\" y1=\"200.0\" y2=\"200.0\"/>\n<line stroke=\"black\" stroke-width=\"5\" x1=\"100.0\" x2=\"100.0\" y1=\"166.66666666666669\" y2=\"200.0\"/>\n<line stroke=\"black\" stroke-width=\"5\" x1=\"66.66666666666667\" x2=\"100.0\" y1=\"233.33333333333334\" y2=\"233.33333333333334\"/>\n<line stroke=\"black\" stroke-width=\"5\" x1=\"66.66666666666667\" x2=\"100.0\" y1=\"266.6666666666667\" y2=\"266.6666666666667\"/>\n<line stroke=\"black\" stroke-width=\"5\" x1=\"100.0\" x2=\"100.0\" y1=\"300.0\" y2=\"333.33333333333337\"/>\n<line stroke=\"black\" stroke-width=\"5\" x1=\"100.0\" x2=\"100.0\" y1=\"333.33333333333337\" y2=\"366.6666666666667\"/>\n<line stroke=\"black\" stroke-width=\"5\" x1=\"66.66666666666667\" x2=\"100.0\" y1=\"400.0\" y2=\"400.0\"/>\n<line stroke=\"black\" stroke-width=\"5\" x1=\"100.0\" x2=\"100.0\" y1=\"366.6666666666667\" y2=\"400.0\"/>\n<line stroke=\"black\" stroke-width=\"5\" x1=\"66.66666666666667\" x2=\"100.0\" y1=\"433.33333333333337\" y2=\"433.33333333333337\"/>\n<line stroke=\"black\" stroke-width=\"5\" x1=\"66.66666666666667\" x2=\"100.0\" y1=\"466.6666666666667\" y2=\"466.6666666666667\"/>\n<line stroke=\"black\" stroke-width=\"5\" x1=\"66.66666666666667\" x2=\"100.0\" y1=\"500.00000000000006\" y2=\"500.00000000000006\"/>\n<line stroke=\"black\" stroke-width=\"5\" x1=\"100.0\" x2=\"100.0\" y1=\"466.6666666666667\" y2=\"500.00000000000006\"/>\n<line stroke=\"black\" stroke-width=\"5\" x1=\"133.33333333333334\" x2=\"133.33333333333334\" y1=\"0.0\" y2=\"33.333333333333336\"/>\n<line stroke=\"black\" stroke-width=\"5\" x1=\"100.0\" x2=\"133.33333333333334\" y1=\"66.66666666666667\" y2=\"66.66666666666667\"/>\n<line stroke=\"black\" stroke-width=\"5\" x1=\"133.33333333333334\" x2=\"133.33333333333334\" y1=\"100.0\" y2=\"133.33333333333334\"/>\n<line stroke=\"black\" stroke-width=\"5\" x1=\"100.0\" x2=\"133.33333333333334\" y1=\"166.66666666666669\" y2=\"166.66666666666669\"/>\n<line stroke=\"black\" stroke-width=\"5\" x1=\"133.33333333333334\" x2=\"133.33333333333334\" y1=\"133.33333333333334\" y2=\"166.66666666666669\"/>\n<line stroke=\"black\" stroke-width=\"5\" x1=\"100.0\" x2=\"133.33333333333334\" y1=\"233.33333333333334\" y2=\"233.33333333333334\"/>\n<line stroke=\"black\" stroke-width=\"5\" x1=\"133.33333333333334\" x2=\"133.33333333333334\" y1=\"200.0\" y2=\"233.33333333333334\"/>\n<line stroke=\"black\" stroke-width=\"5\" x1=\"100.0\" x2=\"133.33333333333334\" y1=\"266.6666666666667\" y2=\"266.6666666666667\"/>\n<line stroke=\"black\" stroke-width=\"5\" x1=\"133.33333333333334\" x2=\"133.33333333333334\" y1=\"266.6666666666667\" y2=\"300.0\"/>\n<line stroke=\"black\" stroke-width=\"5\" x1=\"100.0\" x2=\"133.33333333333334\" y1=\"333.33333333333337\" y2=\"333.33333333333337\"/>\n<line stroke=\"black\" stroke-width=\"5\" x1=\"133.33333333333334\" x2=\"133.33333333333334\" y1=\"300.0\" y2=\"333.33333333333337\"/>\n<line stroke=\"black\" stroke-width=\"5\" x1=\"133.33333333333334\" x2=\"133.33333333333334\" y1=\"366.6666666666667\" y2=\"400.0\"/>\n<line stroke=\"black\" stroke-width=\"5\" x1=\"100.0\" x2=\"133.33333333333334\" y1=\"433.33333333333337\" y2=\"433.33333333333337\"/>\n<line stroke=\"black\" stroke-width=\"5\" x1=\"133.33333333333334\" x2=\"133.33333333333334\" y1=\"400.0\" y2=\"433.33333333333337\"/>\n<line stroke=\"black\" stroke-width=\"5\" x1=\"133.33333333333334\" x2=\"133.33333333333334\" y1=\"433.33333333333337\" y2=\"466.6666666666667\"/>\n<line stroke=\"black\" stroke-width=\"5\" x1=\"100.0\" x2=\"133.33333333333334\" y1=\"500.00000000000006\" y2=\"500.00000000000006\"/>\n<line stroke=\"black\" stroke-width=\"5\" x1=\"133.33333333333334\" x2=\"166.66666666666669\" y1=\"66.66666666666667\" y2=\"66.66666666666667\"/>\n<line stroke=\"black\" stroke-width=\"5\" x1=\"166.66666666666669\" x2=\"166.66666666666669\" y1=\"33.333333333333336\" y2=\"66.66666666666667\"/>\n<line stroke=\"black\" stroke-width=\"5\" x1=\"133.33333333333334\" x2=\"166.66666666666669\" y1=\"133.33333333333334\" y2=\"133.33333333333334\"/>\n<line stroke=\"black\" stroke-width=\"5\" x1=\"133.33333333333334\" x2=\"166.66666666666669\" y1=\"200.0\" y2=\"200.0\"/>\n<line stroke=\"black\" stroke-width=\"5\" x1=\"166.66666666666669\" x2=\"166.66666666666669\" y1=\"166.66666666666669\" y2=\"200.0\"/>\n<line stroke=\"black\" stroke-width=\"5\" x1=\"133.33333333333334\" x2=\"166.66666666666669\" y1=\"233.33333333333334\" y2=\"233.33333333333334\"/>\n<line stroke=\"black\" stroke-width=\"5\" x1=\"166.66666666666669\" x2=\"166.66666666666669\" y1=\"233.33333333333334\" y2=\"266.6666666666667\"/>\n<line stroke=\"black\" stroke-width=\"5\" x1=\"166.66666666666669\" x2=\"166.66666666666669\" y1=\"266.6666666666667\" y2=\"300.0\"/>\n<line stroke=\"black\" stroke-width=\"5\" x1=\"166.66666666666669\" x2=\"166.66666666666669\" y1=\"300.0\" y2=\"333.33333333333337\"/>\n<line stroke=\"black\" stroke-width=\"5\" x1=\"166.66666666666669\" x2=\"166.66666666666669\" y1=\"333.33333333333337\" y2=\"366.6666666666667\"/>\n<line stroke=\"black\" stroke-width=\"5\" x1=\"166.66666666666669\" x2=\"166.66666666666669\" y1=\"366.6666666666667\" y2=\"400.0\"/>\n<line stroke=\"black\" stroke-width=\"5\" x1=\"133.33333333333334\" x2=\"166.66666666666669\" y1=\"433.33333333333337\" y2=\"433.33333333333337\"/>\n<line stroke=\"black\" stroke-width=\"5\" x1=\"166.66666666666669\" x2=\"166.66666666666669\" y1=\"400.0\" y2=\"433.33333333333337\"/>\n<line stroke=\"black\" stroke-width=\"5\" x1=\"133.33333333333334\" x2=\"166.66666666666669\" y1=\"500.00000000000006\" y2=\"500.00000000000006\"/>\n<line stroke=\"black\" stroke-width=\"5\" x1=\"166.66666666666669\" x2=\"166.66666666666669\" y1=\"466.6666666666667\" y2=\"500.00000000000006\"/>\n<line stroke=\"black\" stroke-width=\"5\" x1=\"166.66666666666669\" x2=\"200.0\" y1=\"33.333333333333336\" y2=\"33.333333333333336\"/>\n<line stroke=\"black\" stroke-width=\"5\" x1=\"166.66666666666669\" x2=\"200.0\" y1=\"100.0\" y2=\"100.0\"/>\n<line stroke=\"black\" stroke-width=\"5\" x1=\"200.0\" x2=\"200.0\" y1=\"66.66666666666667\" y2=\"100.0\"/>\n<line stroke=\"black\" stroke-width=\"5\" x1=\"166.66666666666669\" x2=\"200.0\" y1=\"133.33333333333334\" y2=\"133.33333333333334\"/>\n<line stroke=\"black\" stroke-width=\"5\" x1=\"200.0\" x2=\"200.0\" y1=\"133.33333333333334\" y2=\"166.66666666666669\"/>\n<line stroke=\"black\" stroke-width=\"5\" x1=\"200.0\" x2=\"200.0\" y1=\"166.66666666666669\" y2=\"200.0\"/>\n<line stroke=\"black\" stroke-width=\"5\" x1=\"200.0\" x2=\"200.0\" y1=\"200.0\" y2=\"233.33333333333334\"/>\n<line stroke=\"black\" stroke-width=\"5\" x1=\"200.0\" x2=\"200.0\" y1=\"233.33333333333334\" y2=\"266.6666666666667\"/>\n<line stroke=\"black\" stroke-width=\"5\" x1=\"166.66666666666669\" x2=\"200.0\" y1=\"300.0\" y2=\"300.0\"/>\n<line stroke=\"black\" stroke-width=\"5\" x1=\"166.66666666666669\" x2=\"200.0\" y1=\"366.6666666666667\" y2=\"366.6666666666667\"/>\n<line stroke=\"black\" stroke-width=\"5\" x1=\"166.66666666666669\" x2=\"200.0\" y1=\"433.33333333333337\" y2=\"433.33333333333337\"/>\n<line stroke=\"black\" stroke-width=\"5\" x1=\"200.0\" x2=\"200.0\" y1=\"433.33333333333337\" y2=\"466.6666666666667\"/>\n<line stroke=\"black\" stroke-width=\"5\" x1=\"166.66666666666669\" x2=\"200.0\" y1=\"500.00000000000006\" y2=\"500.00000000000006\"/>\n<line stroke=\"black\" stroke-width=\"5\" x1=\"200.0\" x2=\"233.33333333333334\" y1=\"33.333333333333336\" y2=\"33.333333333333336\"/>\n<line stroke=\"black\" stroke-width=\"5\" x1=\"200.0\" x2=\"233.33333333333334\" y1=\"66.66666666666667\" y2=\"66.66666666666667\"/>\n<line stroke=\"black\" stroke-width=\"5\" x1=\"233.33333333333334\" x2=\"233.33333333333334\" y1=\"33.333333333333336\" y2=\"66.66666666666667\"/>\n<line stroke=\"black\" stroke-width=\"5\" x1=\"200.0\" x2=\"233.33333333333334\" y1=\"133.33333333333334\" y2=\"133.33333333333334\"/>\n<line stroke=\"black\" stroke-width=\"5\" x1=\"233.33333333333334\" x2=\"233.33333333333334\" y1=\"166.66666666666669\" y2=\"200.0\"/>\n<line stroke=\"black\" stroke-width=\"5\" x1=\"233.33333333333334\" x2=\"233.33333333333334\" y1=\"200.0\" y2=\"233.33333333333334\"/>\n<line stroke=\"black\" stroke-width=\"5\" x1=\"200.0\" x2=\"233.33333333333334\" y1=\"266.6666666666667\" y2=\"266.6666666666667\"/>\n<line stroke=\"black\" stroke-width=\"5\" x1=\"200.0\" x2=\"233.33333333333334\" y1=\"300.0\" y2=\"300.0\"/>\n<line stroke=\"black\" stroke-width=\"5\" x1=\"200.0\" x2=\"233.33333333333334\" y1=\"333.33333333333337\" y2=\"333.33333333333337\"/>\n<line stroke=\"black\" stroke-width=\"5\" x1=\"233.33333333333334\" x2=\"233.33333333333334\" y1=\"300.0\" y2=\"333.33333333333337\"/>\n<line stroke=\"black\" stroke-width=\"5\" x1=\"200.0\" x2=\"233.33333333333334\" y1=\"366.6666666666667\" y2=\"366.6666666666667\"/>\n<line stroke=\"black\" stroke-width=\"5\" x1=\"200.0\" x2=\"233.33333333333334\" y1=\"400.0\" y2=\"400.0\"/>\n<line stroke=\"black\" stroke-width=\"5\" x1=\"233.33333333333334\" x2=\"233.33333333333334\" y1=\"400.0\" y2=\"433.33333333333337\"/>\n<line stroke=\"black\" stroke-width=\"5\" x1=\"233.33333333333334\" x2=\"233.33333333333334\" y1=\"433.33333333333337\" y2=\"466.6666666666667\"/>\n<line stroke=\"black\" stroke-width=\"5\" x1=\"200.0\" x2=\"233.33333333333334\" y1=\"500.00000000000006\" y2=\"500.00000000000006\"/>\n<line stroke=\"black\" stroke-width=\"5\" x1=\"266.6666666666667\" x2=\"266.6666666666667\" y1=\"0.0\" y2=\"33.333333333333336\"/>\n<line stroke=\"black\" stroke-width=\"5\" x1=\"233.33333333333334\" x2=\"266.6666666666667\" y1=\"66.66666666666667\" y2=\"66.66666666666667\"/>\n<line stroke=\"black\" stroke-width=\"5\" x1=\"233.33333333333334\" x2=\"266.6666666666667\" y1=\"100.0\" y2=\"100.0\"/>\n<line stroke=\"black\" stroke-width=\"5\" x1=\"233.33333333333334\" x2=\"266.6666666666667\" y1=\"133.33333333333334\" y2=\"133.33333333333334\"/>\n<line stroke=\"black\" stroke-width=\"5\" x1=\"266.6666666666667\" x2=\"266.6666666666667\" y1=\"100.0\" y2=\"133.33333333333334\"/>\n<line stroke=\"black\" stroke-width=\"5\" x1=\"233.33333333333334\" x2=\"266.6666666666667\" y1=\"166.66666666666669\" y2=\"166.66666666666669\"/>\n<line stroke=\"black\" stroke-width=\"5\" x1=\"233.33333333333334\" x2=\"266.6666666666667\" y1=\"200.0\" y2=\"200.0\"/>\n<line stroke=\"black\" stroke-width=\"5\" x1=\"233.33333333333334\" x2=\"266.6666666666667\" y1=\"266.6666666666667\" y2=\"266.6666666666667\"/>\n<line stroke=\"black\" stroke-width=\"5\" x1=\"266.6666666666667\" x2=\"266.6666666666667\" y1=\"233.33333333333334\" y2=\"266.6666666666667\"/>\n<line stroke=\"black\" stroke-width=\"5\" x1=\"266.6666666666667\" x2=\"266.6666666666667\" y1=\"266.6666666666667\" y2=\"300.0\"/>\n<line stroke=\"black\" stroke-width=\"5\" x1=\"233.33333333333334\" x2=\"266.6666666666667\" y1=\"366.6666666666667\" y2=\"366.6666666666667\"/>\n<line stroke=\"black\" stroke-width=\"5\" x1=\"266.6666666666667\" x2=\"266.6666666666667\" y1=\"333.33333333333337\" y2=\"366.6666666666667\"/>\n<line stroke=\"black\" stroke-width=\"5\" x1=\"266.6666666666667\" x2=\"266.6666666666667\" y1=\"366.6666666666667\" y2=\"400.0\"/>\n<line stroke=\"black\" stroke-width=\"5\" x1=\"233.33333333333334\" x2=\"266.6666666666667\" y1=\"433.33333333333337\" y2=\"433.33333333333337\"/>\n<line stroke=\"black\" stroke-width=\"5\" x1=\"233.33333333333334\" x2=\"266.6666666666667\" y1=\"466.6666666666667\" y2=\"466.6666666666667\"/>\n<line stroke=\"black\" stroke-width=\"5\" x1=\"233.33333333333334\" x2=\"266.6666666666667\" y1=\"500.00000000000006\" y2=\"500.00000000000006\"/>\n<line stroke=\"black\" stroke-width=\"5\" x1=\"266.6666666666667\" x2=\"300.0\" y1=\"33.333333333333336\" y2=\"33.333333333333336\"/>\n<line stroke=\"black\" stroke-width=\"5\" x1=\"266.6666666666667\" x2=\"300.0\" y1=\"66.66666666666667\" y2=\"66.66666666666667\"/>\n<line stroke=\"black\" stroke-width=\"5\" x1=\"266.6666666666667\" x2=\"300.0\" y1=\"133.33333333333334\" y2=\"133.33333333333334\"/>\n<line stroke=\"black\" stroke-width=\"5\" x1=\"266.6666666666667\" x2=\"300.0\" y1=\"166.66666666666669\" y2=\"166.66666666666669\"/>\n<line stroke=\"black\" stroke-width=\"5\" x1=\"266.6666666666667\" x2=\"300.0\" y1=\"200.0\" y2=\"200.0\"/>\n<line stroke=\"black\" stroke-width=\"5\" x1=\"300.0\" x2=\"300.0\" y1=\"200.0\" y2=\"233.33333333333334\"/>\n<line stroke=\"black\" stroke-width=\"5\" x1=\"300.0\" x2=\"300.0\" y1=\"233.33333333333334\" y2=\"266.6666666666667\"/>\n<line stroke=\"black\" stroke-width=\"5\" x1=\"300.0\" x2=\"300.0\" y1=\"266.6666666666667\" y2=\"300.0\"/>\n<line stroke=\"black\" stroke-width=\"5\" x1=\"266.6666666666667\" x2=\"300.0\" y1=\"333.33333333333337\" y2=\"333.33333333333337\"/>\n<line stroke=\"black\" stroke-width=\"5\" x1=\"300.0\" x2=\"300.0\" y1=\"300.0\" y2=\"333.33333333333337\"/>\n<line stroke=\"black\" stroke-width=\"5\" x1=\"300.0\" x2=\"300.0\" y1=\"366.6666666666667\" y2=\"400.0\"/>\n<line stroke=\"black\" stroke-width=\"5\" x1=\"266.6666666666667\" x2=\"300.0\" y1=\"433.33333333333337\" y2=\"433.33333333333337\"/>\n<line stroke=\"black\" stroke-width=\"5\" x1=\"300.0\" x2=\"300.0\" y1=\"400.0\" y2=\"433.33333333333337\"/>\n<line stroke=\"black\" stroke-width=\"5\" x1=\"300.0\" x2=\"300.0\" y1=\"433.33333333333337\" y2=\"466.6666666666667\"/>\n<line stroke=\"black\" stroke-width=\"5\" x1=\"266.6666666666667\" x2=\"300.0\" y1=\"500.00000000000006\" y2=\"500.00000000000006\"/>\n<line stroke=\"black\" stroke-width=\"5\" x1=\"300.0\" x2=\"333.33333333333337\" y1=\"33.333333333333336\" y2=\"33.333333333333336\"/>\n<line stroke=\"black\" stroke-width=\"5\" x1=\"300.0\" x2=\"333.33333333333337\" y1=\"66.66666666666667\" y2=\"66.66666666666667\"/>\n<line stroke=\"black\" stroke-width=\"5\" x1=\"300.0\" x2=\"333.33333333333337\" y1=\"100.0\" y2=\"100.0\"/>\n<line stroke=\"black\" stroke-width=\"5\" x1=\"333.33333333333337\" x2=\"333.33333333333337\" y1=\"100.0\" y2=\"133.33333333333334\"/>\n<line stroke=\"black\" stroke-width=\"5\" x1=\"333.33333333333337\" x2=\"333.33333333333337\" y1=\"133.33333333333334\" y2=\"166.66666666666669\"/>\n<line stroke=\"black\" stroke-width=\"5\" x1=\"333.33333333333337\" x2=\"333.33333333333337\" y1=\"166.66666666666669\" y2=\"200.0\"/>\n<line stroke=\"black\" stroke-width=\"5\" x1=\"300.0\" x2=\"333.33333333333337\" y1=\"266.6666666666667\" y2=\"266.6666666666667\"/>\n<line stroke=\"black\" stroke-width=\"5\" x1=\"333.33333333333337\" x2=\"333.33333333333337\" y1=\"233.33333333333334\" y2=\"266.6666666666667\"/>\n<line stroke=\"black\" stroke-width=\"5\" x1=\"300.0\" x2=\"333.33333333333337\" y1=\"333.33333333333337\" y2=\"333.33333333333337\"/>\n<line stroke=\"black\" stroke-width=\"5\" x1=\"333.33333333333337\" x2=\"333.33333333333337\" y1=\"333.33333333333337\" y2=\"366.6666666666667\"/>\n<line stroke=\"black\" stroke-width=\"5\" x1=\"333.33333333333337\" x2=\"333.33333333333337\" y1=\"400.0\" y2=\"433.33333333333337\"/>\n<line stroke=\"black\" stroke-width=\"5\" x1=\"300.0\" x2=\"333.33333333333337\" y1=\"466.6666666666667\" y2=\"466.6666666666667\"/>\n<line stroke=\"black\" stroke-width=\"5\" x1=\"300.0\" x2=\"333.33333333333337\" y1=\"500.00000000000006\" y2=\"500.00000000000006\"/>\n<line stroke=\"black\" stroke-width=\"5\" x1=\"333.33333333333337\" x2=\"333.33333333333337\" y1=\"466.6666666666667\" y2=\"500.00000000000006\"/>\n<line stroke=\"black\" stroke-width=\"5\" x1=\"333.33333333333337\" x2=\"366.6666666666667\" y1=\"66.66666666666667\" y2=\"66.66666666666667\"/>\n<line stroke=\"black\" stroke-width=\"5\" x1=\"366.6666666666667\" x2=\"366.6666666666667\" y1=\"33.333333333333336\" y2=\"66.66666666666667\"/>\n<line stroke=\"black\" stroke-width=\"5\" x1=\"333.33333333333337\" x2=\"366.6666666666667\" y1=\"100.0\" y2=\"100.0\"/>\n<line stroke=\"black\" stroke-width=\"5\" x1=\"366.6666666666667\" x2=\"366.6666666666667\" y1=\"133.33333333333334\" y2=\"166.66666666666669\"/>\n<line stroke=\"black\" stroke-width=\"5\" x1=\"333.33333333333337\" x2=\"366.6666666666667\" y1=\"200.0\" y2=\"200.0\"/>\n<line stroke=\"black\" stroke-width=\"5\" x1=\"333.33333333333337\" x2=\"366.6666666666667\" y1=\"233.33333333333334\" y2=\"233.33333333333334\"/>\n<line stroke=\"black\" stroke-width=\"5\" x1=\"366.6666666666667\" x2=\"366.6666666666667\" y1=\"200.0\" y2=\"233.33333333333334\"/>\n<line stroke=\"black\" stroke-width=\"5\" x1=\"333.33333333333337\" x2=\"366.6666666666667\" y1=\"300.0\" y2=\"300.0\"/>\n<line stroke=\"black\" stroke-width=\"5\" x1=\"366.6666666666667\" x2=\"366.6666666666667\" y1=\"266.6666666666667\" y2=\"300.0\"/>\n<line stroke=\"black\" stroke-width=\"5\" x1=\"366.6666666666667\" x2=\"366.6666666666667\" y1=\"300.0\" y2=\"333.33333333333337\"/>\n<line stroke=\"black\" stroke-width=\"5\" x1=\"333.33333333333337\" x2=\"366.6666666666667\" y1=\"366.6666666666667\" y2=\"366.6666666666667\"/>\n<line stroke=\"black\" stroke-width=\"5\" x1=\"366.6666666666667\" x2=\"366.6666666666667\" y1=\"366.6666666666667\" y2=\"400.0\"/>\n<line stroke=\"black\" stroke-width=\"5\" x1=\"333.33333333333337\" x2=\"366.6666666666667\" y1=\"433.33333333333337\" y2=\"433.33333333333337\"/>\n<line stroke=\"black\" stroke-width=\"5\" x1=\"366.6666666666667\" x2=\"366.6666666666667\" y1=\"400.0\" y2=\"433.33333333333337\"/>\n<line stroke=\"black\" stroke-width=\"5\" x1=\"333.33333333333337\" x2=\"366.6666666666667\" y1=\"500.00000000000006\" y2=\"500.00000000000006\"/>\n<line stroke=\"black\" stroke-width=\"5\" x1=\"366.6666666666667\" x2=\"400.0\" y1=\"33.333333333333336\" y2=\"33.333333333333336\"/>\n<line stroke=\"black\" stroke-width=\"5\" x1=\"400.0\" x2=\"400.0\" y1=\"33.333333333333336\" y2=\"66.66666666666667\"/>\n<line stroke=\"black\" stroke-width=\"5\" x1=\"366.6666666666667\" x2=\"400.0\" y1=\"100.0\" y2=\"100.0\"/>\n<line stroke=\"black\" stroke-width=\"5\" x1=\"400.0\" x2=\"400.0\" y1=\"66.66666666666667\" y2=\"100.0\"/>\n<line stroke=\"black\" stroke-width=\"5\" x1=\"366.6666666666667\" x2=\"400.0\" y1=\"133.33333333333334\" y2=\"133.33333333333334\"/>\n<line stroke=\"black\" stroke-width=\"5\" x1=\"366.6666666666667\" x2=\"400.0\" y1=\"166.66666666666669\" y2=\"166.66666666666669\"/>\n<line stroke=\"black\" stroke-width=\"5\" x1=\"400.0\" x2=\"400.0\" y1=\"166.66666666666669\" y2=\"200.0\"/>\n<line stroke=\"black\" stroke-width=\"5\" x1=\"400.0\" x2=\"400.0\" y1=\"200.0\" y2=\"233.33333333333334\"/>\n<line stroke=\"black\" stroke-width=\"5\" x1=\"366.6666666666667\" x2=\"400.0\" y1=\"266.6666666666667\" y2=\"266.6666666666667\"/>\n<line stroke=\"black\" stroke-width=\"5\" x1=\"400.0\" x2=\"400.0\" y1=\"233.33333333333334\" y2=\"266.6666666666667\"/>\n<line stroke=\"black\" stroke-width=\"5\" x1=\"366.6666666666667\" x2=\"400.0\" y1=\"333.33333333333337\" y2=\"333.33333333333337\"/>\n<line stroke=\"black\" stroke-width=\"5\" x1=\"366.6666666666667\" x2=\"400.0\" y1=\"366.6666666666667\" y2=\"366.6666666666667\"/>\n<line stroke=\"black\" stroke-width=\"5\" x1=\"366.6666666666667\" x2=\"400.0\" y1=\"433.33333333333337\" y2=\"433.33333333333337\"/>\n<line stroke=\"black\" stroke-width=\"5\" x1=\"366.6666666666667\" x2=\"400.0\" y1=\"466.6666666666667\" y2=\"466.6666666666667\"/>\n<line stroke=\"black\" stroke-width=\"5\" x1=\"400.0\" x2=\"400.0\" y1=\"433.33333333333337\" y2=\"466.6666666666667\"/>\n<line stroke=\"black\" stroke-width=\"5\" x1=\"366.6666666666667\" x2=\"400.0\" y1=\"500.00000000000006\" y2=\"500.00000000000006\"/>\n<line stroke=\"black\" stroke-width=\"5\" x1=\"433.33333333333337\" x2=\"433.33333333333337\" y1=\"0.0\" y2=\"33.333333333333336\"/>\n<line stroke=\"black\" stroke-width=\"5\" x1=\"400.0\" x2=\"433.33333333333337\" y1=\"66.66666666666667\" y2=\"66.66666666666667\"/>\n<line stroke=\"black\" stroke-width=\"5\" x1=\"400.0\" x2=\"433.33333333333337\" y1=\"133.33333333333334\" y2=\"133.33333333333334\"/>\n<line stroke=\"black\" stroke-width=\"5\" x1=\"433.33333333333337\" x2=\"433.33333333333337\" y1=\"100.0\" y2=\"133.33333333333334\"/>\n<line stroke=\"black\" stroke-width=\"5\" x1=\"433.33333333333337\" x2=\"433.33333333333337\" y1=\"200.0\" y2=\"233.33333333333334\"/>\n<line stroke=\"black\" stroke-width=\"5\" x1=\"400.0\" x2=\"433.33333333333337\" y1=\"266.6666666666667\" y2=\"266.6666666666667\"/>\n<line stroke=\"black\" stroke-width=\"5\" x1=\"433.33333333333337\" x2=\"433.33333333333337\" y1=\"233.33333333333334\" y2=\"266.6666666666667\"/>\n<line stroke=\"blue\" stroke-width=\"10\" x1=\"409.6666666666667\" x2=\"423.6666666666667\" y1=\"243.00000000000003\" y2=\"257.0\"/>\n<line stroke=\"blue\" stroke-width=\"10\" x1=\"409.6666666666667\" x2=\"423.6666666666667\" y1=\"257.0\" y2=\"243.00000000000003\"/>\n<line stroke=\"black\" stroke-width=\"5\" x1=\"400.0\" x2=\"433.33333333333337\" y1=\"300.0\" y2=\"300.0\"/>\n<line stroke=\"black\" stroke-width=\"5\" x1=\"433.33333333333337\" x2=\"433.33333333333337\" y1=\"300.0\" y2=\"333.33333333333337\"/>\n<line stroke=\"black\" stroke-width=\"5\" x1=\"400.0\" x2=\"433.33333333333337\" y1=\"366.6666666666667\" y2=\"366.6666666666667\"/>\n<line stroke=\"black\" stroke-width=\"5\" x1=\"433.33333333333337\" x2=\"433.33333333333337\" y1=\"333.33333333333337\" y2=\"366.6666666666667\"/>\n<line stroke=\"black\" stroke-width=\"5\" x1=\"400.0\" x2=\"433.33333333333337\" y1=\"400.0\" y2=\"400.0\"/>\n<line stroke=\"black\" stroke-width=\"5\" x1=\"433.33333333333337\" x2=\"433.33333333333337\" y1=\"400.0\" y2=\"433.33333333333337\"/>\n<line stroke=\"black\" stroke-width=\"5\" x1=\"433.33333333333337\" x2=\"433.33333333333337\" y1=\"433.33333333333337\" y2=\"466.6666666666667\"/>\n<line stroke=\"black\" stroke-width=\"5\" x1=\"400.0\" x2=\"433.33333333333337\" y1=\"500.00000000000006\" y2=\"500.00000000000006\"/>\n<line stroke=\"black\" stroke-width=\"5\" x1=\"433.33333333333337\" x2=\"466.6666666666667\" y1=\"66.66666666666667\" y2=\"66.66666666666667\"/>\n<line stroke=\"black\" stroke-width=\"5\" x1=\"466.6666666666667\" x2=\"466.6666666666667\" y1=\"33.333333333333336\" y2=\"66.66666666666667\"/>\n<line stroke=\"black\" stroke-width=\"5\" x1=\"466.6666666666667\" x2=\"466.6666666666667\" y1=\"66.66666666666667\" y2=\"100.0\"/>\n<line stroke=\"black\" stroke-width=\"5\" x1=\"433.33333333333337\" x2=\"466.6666666666667\" y1=\"133.33333333333334\" y2=\"133.33333333333334\"/>\n<line stroke=\"black\" stroke-width=\"5\" x1=\"433.33333333333337\" x2=\"466.6666666666667\" y1=\"166.66666666666669\" y2=\"166.66666666666669\"/>\n<line stroke=\"black\" stroke-width=\"5\" x1=\"466.6666666666667\" x2=\"466.6666666666667\" y1=\"166.66666666666669\" y2=\"200.0\"/>\n<line stroke=\"black\" stroke-width=\"5\" x1=\"466.6666666666667\" x2=\"466.6666666666667\" y1=\"200.0\" y2=\"233.33333333333334\"/>\n<line stroke=\"black\" stroke-width=\"5\" x1=\"433.33333333333337\" x2=\"466.6666666666667\" y1=\"266.6666666666667\" y2=\"266.6666666666667\"/>\n<line stroke=\"black\" stroke-width=\"5\" x1=\"433.33333333333337\" x2=\"466.6666666666667\" y1=\"300.0\" y2=\"300.0\"/>\n<line stroke=\"black\" stroke-width=\"5\" x1=\"433.33333333333337\" x2=\"466.6666666666667\" y1=\"366.6666666666667\" y2=\"366.6666666666667\"/>\n<line stroke=\"black\" stroke-width=\"5\" x1=\"466.6666666666667\" x2=\"466.6666666666667\" y1=\"366.6666666666667\" y2=\"400.0\"/>\n<line stroke=\"black\" stroke-width=\"5\" x1=\"433.33333333333337\" x2=\"466.6666666666667\" y1=\"433.33333333333337\" y2=\"433.33333333333337\"/>\n<line stroke=\"black\" stroke-width=\"5\" x1=\"433.33333333333337\" x2=\"466.6666666666667\" y1=\"500.00000000000006\" y2=\"500.00000000000006\"/>\n<line stroke=\"black\" stroke-width=\"5\" x1=\"466.6666666666667\" x2=\"466.6666666666667\" y1=\"466.6666666666667\" y2=\"500.00000000000006\"/>\n<line stroke=\"black\" stroke-width=\"5\" x1=\"500.00000000000006\" x2=\"500.00000000000006\" y1=\"0.0\" y2=\"33.333333333333336\"/>\n<line stroke=\"black\" stroke-width=\"5\" x1=\"500.00000000000006\" x2=\"500.00000000000006\" y1=\"33.333333333333336\" y2=\"66.66666666666667\"/>\n<line stroke=\"black\" stroke-width=\"5\" x1=\"500.00000000000006\" x2=\"500.00000000000006\" y1=\"66.66666666666667\" y2=\"100.0\"/>\n<line stroke=\"black\" stroke-width=\"5\" x1=\"466.6666666666667\" x2=\"500.00000000000006\" y1=\"133.33333333333334\" y2=\"133.33333333333334\"/>\n<line stroke=\"black\" stroke-width=\"5\" x1=\"500.00000000000006\" x2=\"500.00000000000006\" y1=\"100.0\" y2=\"133.33333333333334\"/>\n<line stroke=\"black\" stroke-width=\"5\" x1=\"500.00000000000006\" x2=\"500.00000000000006\" y1=\"133.33333333333334\" y2=\"166.66666666666669\"/>\n<line stroke=\"black\" stroke-width=\"5\" x1=\"500.00000000000006\" x2=\"500.00000000000006\" y1=\"166.66666666666669\" y2=\"200.0\"/>\n<line stroke=\"black\" stroke-width=\"5\" x1=\"466.6666666666667\" x2=\"500.00000000000006\" y1=\"233.33333333333334\" y2=\"233.33333333333334\"/>\n<line stroke=\"black\" stroke-width=\"5\" x1=\"500.00000000000006\" x2=\"500.00000000000006\" y1=\"200.0\" y2=\"233.33333333333334\"/>\n<line stroke=\"black\" stroke-width=\"5\" x1=\"500.00000000000006\" x2=\"500.00000000000006\" y1=\"233.33333333333334\" y2=\"266.6666666666667\"/>\n<line stroke=\"black\" stroke-width=\"5\" x1=\"500.00000000000006\" x2=\"500.00000000000006\" y1=\"266.6666666666667\" y2=\"300.0\"/>\n<line stroke=\"black\" stroke-width=\"5\" x1=\"466.6666666666667\" x2=\"500.00000000000006\" y1=\"333.33333333333337\" y2=\"333.33333333333337\"/>\n<line stroke=\"black\" stroke-width=\"5\" x1=\"500.00000000000006\" x2=\"500.00000000000006\" y1=\"300.0\" y2=\"333.33333333333337\"/>\n<line stroke=\"black\" stroke-width=\"5\" x1=\"500.00000000000006\" x2=\"500.00000000000006\" y1=\"333.33333333333337\" y2=\"366.6666666666667\"/>\n<line stroke=\"black\" stroke-width=\"5\" x1=\"500.00000000000006\" x2=\"500.00000000000006\" y1=\"366.6666666666667\" y2=\"400.0\"/>\n<line stroke=\"black\" stroke-width=\"5\" x1=\"466.6666666666667\" x2=\"500.00000000000006\" y1=\"433.33333333333337\" y2=\"433.33333333333337\"/>\n<line stroke=\"black\" stroke-width=\"5\" x1=\"500.00000000000006\" x2=\"500.00000000000006\" y1=\"400.0\" y2=\"433.33333333333337\"/>\n<line stroke=\"black\" stroke-width=\"5\" x1=\"500.00000000000006\" x2=\"500.00000000000006\" y1=\"433.33333333333337\" y2=\"466.6666666666667\"/>\n<line stroke=\"black\" stroke-width=\"5\" x1=\"466.6666666666667\" x2=\"500.00000000000006\" y1=\"500.00000000000006\" y2=\"500.00000000000006\"/>\n<line stroke=\"black\" stroke-width=\"5\" x1=\"500.00000000000006\" x2=\"500.00000000000006\" y1=\"466.6666666666667\" y2=\"500.00000000000006\"/>\n<line stroke=\"black\" stroke-width=\"5\" x1=\"0\" x2=\"500\" y1=\"0\" y2=\"0\"/>\n<line stroke=\"black\" stroke-width=\"5\" x1=\"0\" x2=\"0\" y1=\"0\" y2=\"500\"/>\n</svg>"
          },
          "metadata": {}
        },
        {
          "output_type": "stream",
          "name": "stdout",
          "text": [
            "['EAST', 'EAST', 'EAST', 'SOUTH', 'EAST', 'NORTH', 'EAST', 'EAST', 'EAST', 'SOUTH', 'EAST', 'EAST', 'EAST', 'NORTH', 'EAST', 'EAST', 'SOUTH', 'EAST', 'NORTH', 'EAST', 'SOUTH', 'SOUTH', 'SOUTH', 'WEST', 'NORTH', 'WEST', 'SOUTH', 'WEST', 'WEST', 'SOUTH', 'SOUTH', 'EAST', 'SOUTH', 'SOUTH', 'WEST', 'SOUTH', 'WEST', 'SOUTH', 'EAST', 'SOUTH', 'EAST', 'EAST', 'NORTH', 'WEST', 'NORTH', 'EAST', 'EAST', 'EAST', 'NORTH', 'WEST', 'NORTH', 'NORTH', 'WEST', 'SOUTH', 'SOUTH']\n"
          ]
        }
      ]
    },
    {
      "cell_type": "code",
      "metadata": {
        "id": "13r23gsHJQqK"
      },
      "source": [
        ""
      ],
      "execution_count": null,
      "outputs": []
    }
  ]
}